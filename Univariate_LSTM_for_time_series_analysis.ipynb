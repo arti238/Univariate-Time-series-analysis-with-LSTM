{
  "nbformat": 4,
  "nbformat_minor": 0,
  "metadata": {
    "colab": {
      "provenance": []
    },
    "kernelspec": {
      "name": "python3",
      "display_name": "Python 3"
    },
    "language_info": {
      "name": "python"
    }
  },
  "cells": [
    {
      "cell_type": "code",
      "execution_count": null,
      "metadata": {
        "colab": {
          "base_uri": "https://localhost:8080/"
        },
        "id": "P5jYGBwqNJOP",
        "outputId": "041e8b59-00b4-430d-c3e9-0a4a29cc956a"
      },
      "outputs": [
        {
          "output_type": "stream",
          "name": "stdout",
          "text": [
            "Mounted at /content/drive\n"
          ]
        }
      ],
      "source": [
        "from google.colab import drive\n",
        "drive.mount('/content/drive')"
      ]
    },
    {
      "cell_type": "code",
      "source": [
        "import pandas as pd\n",
        "import numpy as np\n",
        "import matplotlib.pyplot as plt\n",
        "from matplotlib import pyplot\n",
        "from scipy import stats\n",
        "from statsmodels.tsa.stattools import adfuller\n",
        "from statsmodels.tsa.stattools import pacf\n",
        "%matplotlib inline\n",
        "from matplotlib.pylab import rcParams\n",
        "import seaborn as sns\n",
        "rcParams['figure.figsize']=15,10"
      ],
      "metadata": {
        "id": "UVd4YrSQNS1v"
      },
      "execution_count": null,
      "outputs": []
    },
    {
      "cell_type": "code",
      "source": [
        "df = pd.read_csv('/content/drive/MyDrive/LMS datasets/data.csv', header=0, index_col=0)\n",
        "print('Number of rows and columns:', df.shape)\n",
        "df = df.reset_index(drop=True)\n",
        "df.head()"
      ],
      "metadata": {
        "colab": {
          "base_uri": "https://localhost:8080/",
          "height": 409
        },
        "id": "2-X5uF9_N5wi",
        "outputId": "5da6b97e-2141-4140-87e7-2e4709c485e2"
      },
      "execution_count": null,
      "outputs": [
        {
          "output_type": "stream",
          "name": "stdout",
          "text": [
            "Number of rows and columns: (8340, 20)\n"
          ]
        },
        {
          "output_type": "execute_result",
          "data": {
            "text/plain": [
              "        ID \\tDate/Time (yy/mm/dd)  \\tTem (C)   Hum (%)  \\tPressure (Pa)  \\\n",
              "0  1187551    2022-08-02 13:40:48       26.4        99          1012.72   \n",
              "1  1187539    2022-08-02 13:29:35       26.4        99          1012.48   \n",
              "2  1187526    2022-08-02 13:18:22       26.1        99          1012.74   \n",
              "3  1187503    2022-08-02 12:56:06       25.8        99          1013.15   \n",
              "4  1187480    2022-08-02 12:33:40       25.1        99          1013.08   \n",
              "\n",
              "   \\tRain (mm)  \\tLight intensity (lux)  \\tAx    Ay    Az     Wx     Wy    Wz  \\\n",
              "0          0.0                    17.50 -0.41  0.02  0.96 -48.72  35.85 -4.76   \n",
              "1          0.0                    24.17 -0.41  0.01  0.96 -50.37  35.49 -3.90   \n",
              "2          0.0                    25.83 -0.41  0.02  0.95 -48.05  33.23 -4.88   \n",
              "3          0.0                    21.67 -0.41  0.03  0.96 -48.78  34.39 -4.02   \n",
              "4          0.0                    10.83 -0.41  0.02  0.96 -48.05  33.29 -4.51   \n",
              "\n",
              "    Pitch   Roll   Yaw  Count  cumcount   Force (N)  Moisture (%)  \n",
              "0       0      0     0      0         0           0           407  \n",
              "1       0      0     0      0         0           0           406  \n",
              "2       0      0     0      0         0           0           405  \n",
              "3       0      0     0      0         0           0           402  \n",
              "4       0      0     0      0         0           0           401  "
            ],
            "text/html": [
              "\n",
              "  <div id=\"df-b718d7de-3603-464a-b47a-260b06f34a75\">\n",
              "    <div class=\"colab-df-container\">\n",
              "      <div>\n",
              "<style scoped>\n",
              "    .dataframe tbody tr th:only-of-type {\n",
              "        vertical-align: middle;\n",
              "    }\n",
              "\n",
              "    .dataframe tbody tr th {\n",
              "        vertical-align: top;\n",
              "    }\n",
              "\n",
              "    .dataframe thead th {\n",
              "        text-align: right;\n",
              "    }\n",
              "</style>\n",
              "<table border=\"1\" class=\"dataframe\">\n",
              "  <thead>\n",
              "    <tr style=\"text-align: right;\">\n",
              "      <th></th>\n",
              "      <th>ID</th>\n",
              "      <th>\\tDate/Time (yy/mm/dd)</th>\n",
              "      <th>\\tTem (C)</th>\n",
              "      <th>Hum (%)</th>\n",
              "      <th>\\tPressure (Pa)</th>\n",
              "      <th>\\tRain (mm)</th>\n",
              "      <th>\\tLight intensity (lux)</th>\n",
              "      <th>\\tAx</th>\n",
              "      <th>Ay</th>\n",
              "      <th>Az</th>\n",
              "      <th>Wx</th>\n",
              "      <th>Wy</th>\n",
              "      <th>Wz</th>\n",
              "      <th>Pitch</th>\n",
              "      <th>Roll</th>\n",
              "      <th>Yaw</th>\n",
              "      <th>Count</th>\n",
              "      <th>cumcount</th>\n",
              "      <th>Force (N)</th>\n",
              "      <th>Moisture (%)</th>\n",
              "    </tr>\n",
              "  </thead>\n",
              "  <tbody>\n",
              "    <tr>\n",
              "      <th>0</th>\n",
              "      <td>1187551</td>\n",
              "      <td>2022-08-02 13:40:48</td>\n",
              "      <td>26.4</td>\n",
              "      <td>99</td>\n",
              "      <td>1012.72</td>\n",
              "      <td>0.0</td>\n",
              "      <td>17.50</td>\n",
              "      <td>-0.41</td>\n",
              "      <td>0.02</td>\n",
              "      <td>0.96</td>\n",
              "      <td>-48.72</td>\n",
              "      <td>35.85</td>\n",
              "      <td>-4.76</td>\n",
              "      <td>0</td>\n",
              "      <td>0</td>\n",
              "      <td>0</td>\n",
              "      <td>0</td>\n",
              "      <td>0</td>\n",
              "      <td>0</td>\n",
              "      <td>407</td>\n",
              "    </tr>\n",
              "    <tr>\n",
              "      <th>1</th>\n",
              "      <td>1187539</td>\n",
              "      <td>2022-08-02 13:29:35</td>\n",
              "      <td>26.4</td>\n",
              "      <td>99</td>\n",
              "      <td>1012.48</td>\n",
              "      <td>0.0</td>\n",
              "      <td>24.17</td>\n",
              "      <td>-0.41</td>\n",
              "      <td>0.01</td>\n",
              "      <td>0.96</td>\n",
              "      <td>-50.37</td>\n",
              "      <td>35.49</td>\n",
              "      <td>-3.90</td>\n",
              "      <td>0</td>\n",
              "      <td>0</td>\n",
              "      <td>0</td>\n",
              "      <td>0</td>\n",
              "      <td>0</td>\n",
              "      <td>0</td>\n",
              "      <td>406</td>\n",
              "    </tr>\n",
              "    <tr>\n",
              "      <th>2</th>\n",
              "      <td>1187526</td>\n",
              "      <td>2022-08-02 13:18:22</td>\n",
              "      <td>26.1</td>\n",
              "      <td>99</td>\n",
              "      <td>1012.74</td>\n",
              "      <td>0.0</td>\n",
              "      <td>25.83</td>\n",
              "      <td>-0.41</td>\n",
              "      <td>0.02</td>\n",
              "      <td>0.95</td>\n",
              "      <td>-48.05</td>\n",
              "      <td>33.23</td>\n",
              "      <td>-4.88</td>\n",
              "      <td>0</td>\n",
              "      <td>0</td>\n",
              "      <td>0</td>\n",
              "      <td>0</td>\n",
              "      <td>0</td>\n",
              "      <td>0</td>\n",
              "      <td>405</td>\n",
              "    </tr>\n",
              "    <tr>\n",
              "      <th>3</th>\n",
              "      <td>1187503</td>\n",
              "      <td>2022-08-02 12:56:06</td>\n",
              "      <td>25.8</td>\n",
              "      <td>99</td>\n",
              "      <td>1013.15</td>\n",
              "      <td>0.0</td>\n",
              "      <td>21.67</td>\n",
              "      <td>-0.41</td>\n",
              "      <td>0.03</td>\n",
              "      <td>0.96</td>\n",
              "      <td>-48.78</td>\n",
              "      <td>34.39</td>\n",
              "      <td>-4.02</td>\n",
              "      <td>0</td>\n",
              "      <td>0</td>\n",
              "      <td>0</td>\n",
              "      <td>0</td>\n",
              "      <td>0</td>\n",
              "      <td>0</td>\n",
              "      <td>402</td>\n",
              "    </tr>\n",
              "    <tr>\n",
              "      <th>4</th>\n",
              "      <td>1187480</td>\n",
              "      <td>2022-08-02 12:33:40</td>\n",
              "      <td>25.1</td>\n",
              "      <td>99</td>\n",
              "      <td>1013.08</td>\n",
              "      <td>0.0</td>\n",
              "      <td>10.83</td>\n",
              "      <td>-0.41</td>\n",
              "      <td>0.02</td>\n",
              "      <td>0.96</td>\n",
              "      <td>-48.05</td>\n",
              "      <td>33.29</td>\n",
              "      <td>-4.51</td>\n",
              "      <td>0</td>\n",
              "      <td>0</td>\n",
              "      <td>0</td>\n",
              "      <td>0</td>\n",
              "      <td>0</td>\n",
              "      <td>0</td>\n",
              "      <td>401</td>\n",
              "    </tr>\n",
              "  </tbody>\n",
              "</table>\n",
              "</div>\n",
              "      <button class=\"colab-df-convert\" onclick=\"convertToInteractive('df-b718d7de-3603-464a-b47a-260b06f34a75')\"\n",
              "              title=\"Convert this dataframe to an interactive table.\"\n",
              "              style=\"display:none;\">\n",
              "        \n",
              "  <svg xmlns=\"http://www.w3.org/2000/svg\" height=\"24px\"viewBox=\"0 0 24 24\"\n",
              "       width=\"24px\">\n",
              "    <path d=\"M0 0h24v24H0V0z\" fill=\"none\"/>\n",
              "    <path d=\"M18.56 5.44l.94 2.06.94-2.06 2.06-.94-2.06-.94-.94-2.06-.94 2.06-2.06.94zm-11 1L8.5 8.5l.94-2.06 2.06-.94-2.06-.94L8.5 2.5l-.94 2.06-2.06.94zm10 10l.94 2.06.94-2.06 2.06-.94-2.06-.94-.94-2.06-.94 2.06-2.06.94z\"/><path d=\"M17.41 7.96l-1.37-1.37c-.4-.4-.92-.59-1.43-.59-.52 0-1.04.2-1.43.59L10.3 9.45l-7.72 7.72c-.78.78-.78 2.05 0 2.83L4 21.41c.39.39.9.59 1.41.59.51 0 1.02-.2 1.41-.59l7.78-7.78 2.81-2.81c.8-.78.8-2.07 0-2.86zM5.41 20L4 18.59l7.72-7.72 1.47 1.35L5.41 20z\"/>\n",
              "  </svg>\n",
              "      </button>\n",
              "      \n",
              "  <style>\n",
              "    .colab-df-container {\n",
              "      display:flex;\n",
              "      flex-wrap:wrap;\n",
              "      gap: 12px;\n",
              "    }\n",
              "\n",
              "    .colab-df-convert {\n",
              "      background-color: #E8F0FE;\n",
              "      border: none;\n",
              "      border-radius: 50%;\n",
              "      cursor: pointer;\n",
              "      display: none;\n",
              "      fill: #1967D2;\n",
              "      height: 32px;\n",
              "      padding: 0 0 0 0;\n",
              "      width: 32px;\n",
              "    }\n",
              "\n",
              "    .colab-df-convert:hover {\n",
              "      background-color: #E2EBFA;\n",
              "      box-shadow: 0px 1px 2px rgba(60, 64, 67, 0.3), 0px 1px 3px 1px rgba(60, 64, 67, 0.15);\n",
              "      fill: #174EA6;\n",
              "    }\n",
              "\n",
              "    [theme=dark] .colab-df-convert {\n",
              "      background-color: #3B4455;\n",
              "      fill: #D2E3FC;\n",
              "    }\n",
              "\n",
              "    [theme=dark] .colab-df-convert:hover {\n",
              "      background-color: #434B5C;\n",
              "      box-shadow: 0px 1px 3px 1px rgba(0, 0, 0, 0.15);\n",
              "      filter: drop-shadow(0px 1px 2px rgba(0, 0, 0, 0.3));\n",
              "      fill: #FFFFFF;\n",
              "    }\n",
              "  </style>\n",
              "\n",
              "      <script>\n",
              "        const buttonEl =\n",
              "          document.querySelector('#df-b718d7de-3603-464a-b47a-260b06f34a75 button.colab-df-convert');\n",
              "        buttonEl.style.display =\n",
              "          google.colab.kernel.accessAllowed ? 'block' : 'none';\n",
              "\n",
              "        async function convertToInteractive(key) {\n",
              "          const element = document.querySelector('#df-b718d7de-3603-464a-b47a-260b06f34a75');\n",
              "          const dataTable =\n",
              "            await google.colab.kernel.invokeFunction('convertToInteractive',\n",
              "                                                     [key], {});\n",
              "          if (!dataTable) return;\n",
              "\n",
              "          const docLinkHtml = 'Like what you see? Visit the ' +\n",
              "            '<a target=\"_blank\" href=https://colab.research.google.com/notebooks/data_table.ipynb>data table notebook</a>'\n",
              "            + ' to learn more about interactive tables.';\n",
              "          element.innerHTML = '';\n",
              "          dataTable['output_type'] = 'display_data';\n",
              "          await google.colab.output.renderOutput(dataTable, element);\n",
              "          const docLink = document.createElement('div');\n",
              "          docLink.innerHTML = docLinkHtml;\n",
              "          element.appendChild(docLink);\n",
              "        }\n",
              "      </script>\n",
              "    </div>\n",
              "  </div>\n",
              "  "
            ]
          },
          "metadata": {},
          "execution_count": 6
        }
      ]
    },
    {
      "cell_type": "code",
      "source": [
        "stat, p = stats.normaltest(df.cumcount)\n",
        "print('Statistics=%.3f, p=%.3f' % (stat, p))\n",
        "alpha = 0.05\n",
        "if p > alpha:\n",
        "    print('Data looks Gaussian (fail to reject H0)')\n",
        "else:\n",
        "    print('Data does not look Gaussian (reject H0)')\n"
      ],
      "metadata": {
        "colab": {
          "base_uri": "https://localhost:8080/"
        },
        "id": "ym6IAallC0kb",
        "outputId": "b6a1a464-40cd-4117-de7a-2891a4f36f2d"
      },
      "execution_count": null,
      "outputs": [
        {
          "output_type": "stream",
          "name": "stdout",
          "text": [
            "Statistics=11370.873, p=0.000\n",
            "Data does not look Gaussian (reject H0)\n"
          ]
        }
      ]
    },
    {
      "cell_type": "code",
      "source": [
        "sns.distplot(df.cumcount);\n",
        "print( 'Kurtosis of normal distribution: {}'.format(stats.kurtosis(df.cumcount)))\n",
        "print( 'Skewness of normal distribution: {}'.format(stats.skew(df.cumcount)))"
      ],
      "metadata": {
        "colab": {
          "base_uri": "https://localhost:8080/",
          "height": 698
        },
        "id": "HVzsdwiWC0nh",
        "outputId": "f85e4b34-a48b-48b0-a620-d84a03ccaaa6"
      },
      "execution_count": null,
      "outputs": [
        {
          "output_type": "stream",
          "name": "stderr",
          "text": [
            "/usr/local/lib/python3.7/dist-packages/seaborn/distributions.py:2619: FutureWarning: `distplot` is a deprecated function and will be removed in a future version. Please adapt your code to use either `displot` (a figure-level function with similar flexibility) or `histplot` (an axes-level function for histograms).\n",
            "  warnings.warn(msg, FutureWarning)\n"
          ]
        },
        {
          "output_type": "stream",
          "name": "stdout",
          "text": [
            "Kurtosis of normal distribution: 66.76088807858278\n",
            "Skewness of normal distribution: 8.189307891795973\n"
          ]
        },
        {
          "output_type": "display_data",
          "data": {
            "text/plain": [
              "<Figure size 1080x720 with 1 Axes>"
            ],
            "image/png": "[encoded data removed]"
          },
          "metadata": {
            "needs_background": "light"
          }
        }
      ]
    },
    {
      "cell_type": "code",
      "source": [
        "df1=df.loc[:,['\\tDate/Time (yy/mm/dd)','cumcount']]\n",
        "df1.set_index('\\tDate/Time (yy/mm/dd)',inplace=True)\n",
        "df1.plot(figsize=(12,5))\n",
        "plt.ylabel('cumcount')\n",
        "plt.legend().set_visible(False)\n",
        "plt.tight_layout()\n",
        "plt.title('cumcount Time Series')\n",
        "sns.despine(top=True)\n",
        "plt.show();"
      ],
      "metadata": {
        "colab": {
          "base_uri": "https://localhost:8080/",
          "height": 451
        },
        "id": "8J8m7XU_DOGn",
        "outputId": "bfa87eb2-4144-4ea3-9c1b-192c6f8ff6ab"
      },
      "execution_count": null,
      "outputs": [
        {
          "output_type": "stream",
          "name": "stderr",
          "text": [
            "/usr/local/lib/python3.7/dist-packages/matplotlib/backends/backend_agg.py:214: RuntimeWarning: Glyph 9 missing from current font.\n",
            "  font.set_text(s, 0.0, flags=flags)\n",
            "/usr/local/lib/python3.7/dist-packages/matplotlib/backends/backend_agg.py:183: RuntimeWarning: Glyph 9 missing from current font.\n",
            "  font.set_text(s, 0, flags=flags)\n"
          ]
        },
        {
          "output_type": "display_data",
          "data": {
            "text/plain": [
              "<Figure size 864x360 with 1 Axes>"
            ],
            "image/png": "[encoded data removed]"
          },
          "metadata": {
            "needs_background": "light"
          }
        }
      ]
    },
    {
      "cell_type": "code",
      "source": [
        "plt.figure(figsize=(14,6))\n",
        "plt.subplot(1,2,1)\n",
        "df['cumcount'].hist(bins=50)\n",
        "plt.title('cummulative count Distribution')\n",
        "plt.subplot(1,2,2)\n",
        "stats.probplot(df['cumcount'], plot=plt);\n",
        "df1.describe().T"
      ],
      "metadata": {
        "colab": {
          "base_uri": "https://localhost:8080/",
          "height": 468
        },
        "id": "TDOpdKnVDXIR",
        "outputId": "b5c9f842-fe7b-4abb-f80c-1f4adbe84e35"
      },
      "execution_count": null,
      "outputs": [
        {
          "output_type": "execute_result",
          "data": {
            "text/plain": [
              "           count       mean         std  min   25%   50%   75%     max\n",
              "cumcount  8340.0  79.072782  177.112425  0.0  55.0  56.0  86.0  1667.0"
            ],
            "text/html": [
              "\n",
              "  <div id=\"df-5fe9002a-ddea-4c29-a9e4-7deb33057710\">\n",
              "    <div class=\"colab-df-container\">\n",
              "      <div>\n",
              "<style scoped>\n",
              "    .dataframe tbody tr th:only-of-type {\n",
              "        vertical-align: middle;\n",
              "    }\n",
              "\n",
              "    .dataframe tbody tr th {\n",
              "        vertical-align: top;\n",
              "    }\n",
              "\n",
              "    .dataframe thead th {\n",
              "        text-align: right;\n",
              "    }\n",
              "</style>\n",
              "<table border=\"1\" class=\"dataframe\">\n",
              "  <thead>\n",
              "    <tr style=\"text-align: right;\">\n",
              "      <th></th>\n",
              "      <th>count</th>\n",
              "      <th>mean</th>\n",
              "      <th>std</th>\n",
              "      <th>min</th>\n",
              "      <th>25%</th>\n",
              "      <th>50%</th>\n",
              "      <th>75%</th>\n",
              "      <th>max</th>\n",
              "    </tr>\n",
              "  </thead>\n",
              "  <tbody>\n",
              "    <tr>\n",
              "      <th>cumcount</th>\n",
              "      <td>8340.0</td>\n",
              "      <td>79.072782</td>\n",
              "      <td>177.112425</td>\n",
              "      <td>0.0</td>\n",
              "      <td>55.0</td>\n",
              "      <td>56.0</td>\n",
              "      <td>86.0</td>\n",
              "      <td>1667.0</td>\n",
              "    </tr>\n",
              "  </tbody>\n",
              "</table>\n",
              "</div>\n",
              "      <button class=\"colab-df-convert\" onclick=\"convertToInteractive('df-5fe9002a-ddea-4c29-a9e4-7deb33057710')\"\n",
              "              title=\"Convert this dataframe to an interactive table.\"\n",
              "              style=\"display:none;\">\n",
              "        \n",
              "  <svg xmlns=\"http://www.w3.org/2000/svg\" height=\"24px\"viewBox=\"0 0 24 24\"\n",
              "       width=\"24px\">\n",
              "    <path d=\"M0 0h24v24H0V0z\" fill=\"none\"/>\n",
              "    <path d=\"M18.56 5.44l.94 2.06.94-2.06 2.06-.94-2.06-.94-.94-2.06-.94 2.06-2.06.94zm-11 1L8.5 8.5l.94-2.06 2.06-.94-2.06-.94L8.5 2.5l-.94 2.06-2.06.94zm10 10l.94 2.06.94-2.06 2.06-.94-2.06-.94-.94-2.06-.94 2.06-2.06.94z\"/><path d=\"M17.41 7.96l-1.37-1.37c-.4-.4-.92-.59-1.43-.59-.52 0-1.04.2-1.43.59L10.3 9.45l-7.72 7.72c-.78.78-.78 2.05 0 2.83L4 21.41c.39.39.9.59 1.41.59.51 0 1.02-.2 1.41-.59l7.78-7.78 2.81-2.81c.8-.78.8-2.07 0-2.86zM5.41 20L4 18.59l7.72-7.72 1.47 1.35L5.41 20z\"/>\n",
              "  </svg>\n",
              "      </button>\n",
              "      \n",
              "  <style>\n",
              "    .colab-df-container {\n",
              "      display:flex;\n",
              "      flex-wrap:wrap;\n",
              "      gap: 12px;\n",
              "    }\n",
              "\n",
              "    .colab-df-convert {\n",
              "      background-color: #E8F0FE;\n",
              "      border: none;\n",
              "      border-radius: 50%;\n",
              "      cursor: pointer;\n",
              "      display: none;\n",
              "      fill: #1967D2;\n",
              "      height: 32px;\n",
              "      padding: 0 0 0 0;\n",
              "      width: 32px;\n",
              "    }\n",
              "\n",
              "    .colab-df-convert:hover {\n",
              "      background-color: #E2EBFA;\n",
              "      box-shadow: 0px 1px 2px rgba(60, 64, 67, 0.3), 0px 1px 3px 1px rgba(60, 64, 67, 0.15);\n",
              "      fill: #174EA6;\n",
              "    }\n",
              "\n",
              "    [theme=dark] .colab-df-convert {\n",
              "      background-color: #3B4455;\n",
              "      fill: #D2E3FC;\n",
              "    }\n",
              "\n",
              "    [theme=dark] .colab-df-convert:hover {\n",
              "      background-color: #434B5C;\n",
              "      box-shadow: 0px 1px 3px 1px rgba(0, 0, 0, 0.15);\n",
              "      filter: drop-shadow(0px 1px 2px rgba(0, 0, 0, 0.3));\n",
              "      fill: #FFFFFF;\n",
              "    }\n",
              "  </style>\n",
              "\n",
              "      <script>\n",
              "        const buttonEl =\n",
              "          document.querySelector('#df-5fe9002a-ddea-4c29-a9e4-7deb33057710 button.colab-df-convert');\n",
              "        buttonEl.style.display =\n",
              "          google.colab.kernel.accessAllowed ? 'block' : 'none';\n",
              "\n",
              "        async function convertToInteractive(key) {\n",
              "          const element = document.querySelector('#df-5fe9002a-ddea-4c29-a9e4-7deb33057710');\n",
              "          const dataTable =\n",
              "            await google.colab.kernel.invokeFunction('convertToInteractive',\n",
              "                                                     [key], {});\n",
              "          if (!dataTable) return;\n",
              "\n",
              "          const docLinkHtml = 'Like what you see? Visit the ' +\n",
              "            '<a target=\"_blank\" href=https://colab.research.google.com/notebooks/data_table.ipynb>data table notebook</a>'\n",
              "            + ' to learn more about interactive tables.';\n",
              "          element.innerHTML = '';\n",
              "          dataTable['output_type'] = 'display_data';\n",
              "          await google.colab.output.renderOutput(dataTable, element);\n",
              "          const docLink = document.createElement('div');\n",
              "          docLink.innerHTML = docLinkHtml;\n",
              "          element.appendChild(docLink);\n",
              "        }\n",
              "      </script>\n",
              "    </div>\n",
              "  </div>\n",
              "  "
            ]
          },
          "metadata": {},
          "execution_count": 10
        },
        {
          "output_type": "display_data",
          "data": {
            "text/plain": [
              "<Figure size 1008x432 with 2 Axes>"
            ],
            "image/png": "[encoded data removed]"
          },
          "metadata": {
            "needs_background": "light"
          }
        }
      ]
    },
    {
      "cell_type": "code",
      "source": [
        "df.describe()"
      ],
      "metadata": {
        "colab": {
          "base_uri": "https://localhost:8080/",
          "height": 399
        },
        "id": "b2AsrJt6NS6i",
        "outputId": "08a2b50e-4b40-48bf-f412-8043da218a88"
      },
      "execution_count": null,
      "outputs": [
        {
          "output_type": "execute_result",
          "data": {
            "text/plain": [
              "                 ID    \\tTem (C)      Hum (%)  \\tPressure (Pa)  \\tRain (mm)  \\\n",
              "count  8.340000e+03  8340.000000  8340.000000      8340.000000  8340.000000   \n",
              "mean   1.039041e+06    19.939113    64.465108       945.900602     0.002358   \n",
              "std    7.076057e+04     4.390001    26.399136        41.562475     0.025573   \n",
              "min    9.532920e+05     0.000000     0.000000         0.000000     0.000000   \n",
              "25%    9.839562e+05    16.400000    41.000000       923.597500     0.000000   \n",
              "50%    1.019069e+06    20.100000    61.000000       926.000000     0.000000   \n",
              "75%    1.054082e+06    23.400000    97.000000       930.680000     0.000000   \n",
              "max    1.187551e+06    34.500000    99.000000      1021.900000     0.821577   \n",
              "\n",
              "       \\tLight intensity (lux)         \\tAx           Ay           Az  \\\n",
              "count              8340.000000  8340.000000  8340.000000  8340.000000   \n",
              "mean                 10.773006    -0.351898     0.107228     0.818418   \n",
              "std                  17.433779     0.142097     0.091446     0.350866   \n",
              "min                  -2.000000    -0.930000    -0.950000    -0.860000   \n",
              "25%                   0.000000    -0.410000     0.020000     0.940000   \n",
              "50%                   0.830000    -0.400000     0.140000     0.940000   \n",
              "75%                  15.000000    -0.400000     0.150000     0.950000   \n",
              "max                  98.330000     0.300000     0.940000     1.000000   \n",
              "\n",
              "                Wx           Wy           Wz   Pitch    Roll     Yaw  \\\n",
              "count  8340.000000  8340.000000  8340.000000  8340.0  8340.0  8340.0   \n",
              "mean    -31.766987     9.696164   -23.225848     0.0     0.0     0.0   \n",
              "std      21.638384     8.239148    23.759087     0.0     0.0     0.0   \n",
              "min    -192.500000    -8.720000  -192.500000     0.0     0.0     0.0   \n",
              "25%     -36.590000     6.340000   -35.120000     0.0     0.0     0.0   \n",
              "50%     -34.940000     7.620000   -33.720000     0.0     0.0     0.0   \n",
              "75%     -33.600000     9.940000    -3.480000     0.0     0.0     0.0   \n",
              "max    1603.840000   301.890000  1603.840000     0.0     0.0     0.0   \n",
              "\n",
              "             Count     cumcount   Force (N)  Moisture (%)  \n",
              "count  8340.000000  8340.000000      8340.0   8340.000000  \n",
              "mean      0.199880    79.072782         0.0    448.020024  \n",
              "std       6.753677   177.112425         0.0     89.846341  \n",
              "min       0.000000     0.000000         0.0    292.000000  \n",
              "25%       0.000000    55.000000         0.0    393.000000  \n",
              "50%       0.000000    56.000000         0.0    420.000000  \n",
              "75%       0.000000    86.000000         0.0    531.000000  \n",
              "max     350.000000  1667.000000         0.0    976.000000  "
            ],
            "text/html": [
              "\n",
              "  <div id=\"df-8cd3bd52-ad89-471d-986f-ed630af61eca\">\n",
              "    <div class=\"colab-df-container\">\n",
              "      <div>\n",
              "<style scoped>\n",
              "    .dataframe tbody tr th:only-of-type {\n",
              "        vertical-align: middle;\n",
              "    }\n",
              "\n",
              "    .dataframe tbody tr th {\n",
              "        vertical-align: top;\n",
              "    }\n",
              "\n",
              "    .dataframe thead th {\n",
              "        text-align: right;\n",
              "    }\n",
              "</style>\n",
              "<table border=\"1\" class=\"dataframe\">\n",
              "  <thead>\n",
              "    <tr style=\"text-align: right;\">\n",
              "      <th></th>\n",
              "      <th>ID</th>\n",
              "      <th>\\tTem (C)</th>\n",
              "      <th>Hum (%)</th>\n",
              "      <th>\\tPressure (Pa)</th>\n",
              "      <th>\\tRain (mm)</th>\n",
              "      <th>\\tLight intensity (lux)</th>\n",
              "      <th>\\tAx</th>\n",
              "      <th>Ay</th>\n",
              "      <th>Az</th>\n",
              "      <th>Wx</th>\n",
              "      <th>Wy</th>\n",
              "      <th>Wz</th>\n",
              "      <th>Pitch</th>\n",
              "      <th>Roll</th>\n",
              "      <th>Yaw</th>\n",
              "      <th>Count</th>\n",
              "      <th>cumcount</th>\n",
              "      <th>Force (N)</th>\n",
              "      <th>Moisture (%)</th>\n",
              "    </tr>\n",
              "  </thead>\n",
              "  <tbody>\n",
              "    <tr>\n",
              "      <th>count</th>\n",
              "      <td>8.340000e+03</td>\n",
              "      <td>8340.000000</td>\n",
              "      <td>8340.000000</td>\n",
              "      <td>8340.000000</td>\n",
              "      <td>8340.000000</td>\n",
              "      <td>8340.000000</td>\n",
              "      <td>8340.000000</td>\n",
              "      <td>8340.000000</td>\n",
              "      <td>8340.000000</td>\n",
              "      <td>8340.000000</td>\n",
              "      <td>8340.000000</td>\n",
              "      <td>8340.000000</td>\n",
              "      <td>8340.0</td>\n",
              "      <td>8340.0</td>\n",
              "      <td>8340.0</td>\n",
              "      <td>8340.000000</td>\n",
              "      <td>8340.000000</td>\n",
              "      <td>8340.0</td>\n",
              "      <td>8340.000000</td>\n",
              "    </tr>\n",
              "    <tr>\n",
              "      <th>mean</th>\n",
              "      <td>1.039041e+06</td>\n",
              "      <td>19.939113</td>\n",
              "      <td>64.465108</td>\n",
              "      <td>945.900602</td>\n",
              "      <td>0.002358</td>\n",
              "      <td>10.773006</td>\n",
              "      <td>-0.351898</td>\n",
              "      <td>0.107228</td>\n",
              "      <td>0.818418</td>\n",
              "      <td>-31.766987</td>\n",
              "      <td>9.696164</td>\n",
              "      <td>-23.225848</td>\n",
              "      <td>0.0</td>\n",
              "      <td>0.0</td>\n",
              "      <td>0.0</td>\n",
              "      <td>0.199880</td>\n",
              "      <td>79.072782</td>\n",
              "      <td>0.0</td>\n",
              "      <td>448.020024</td>\n",
              "    </tr>\n",
              "    <tr>\n",
              "      <th>std</th>\n",
              "      <td>7.076057e+04</td>\n",
              "      <td>4.390001</td>\n",
              "      <td>26.399136</td>\n",
              "      <td>41.562475</td>\n",
              "      <td>0.025573</td>\n",
              "      <td>17.433779</td>\n",
              "      <td>0.142097</td>\n",
              "      <td>0.091446</td>\n",
              "      <td>0.350866</td>\n",
              "      <td>21.638384</td>\n",
              "      <td>8.239148</td>\n",
              "      <td>23.759087</td>\n",
              "      <td>0.0</td>\n",
              "      <td>0.0</td>\n",
              "      <td>0.0</td>\n",
              "      <td>6.753677</td>\n",
              "      <td>177.112425</td>\n",
              "      <td>0.0</td>\n",
              "      <td>89.846341</td>\n",
              "    </tr>\n",
              "    <tr>\n",
              "      <th>min</th>\n",
              "      <td>9.532920e+05</td>\n",
              "      <td>0.000000</td>\n",
              "      <td>0.000000</td>\n",
              "      <td>0.000000</td>\n",
              "      <td>0.000000</td>\n",
              "      <td>-2.000000</td>\n",
              "      <td>-0.930000</td>\n",
              "      <td>-0.950000</td>\n",
              "      <td>-0.860000</td>\n",
              "      <td>-192.500000</td>\n",
              "      <td>-8.720000</td>\n",
              "      <td>-192.500000</td>\n",
              "      <td>0.0</td>\n",
              "      <td>0.0</td>\n",
              "      <td>0.0</td>\n",
              "      <td>0.000000</td>\n",
              "      <td>0.000000</td>\n",
              "      <td>0.0</td>\n",
              "      <td>292.000000</td>\n",
              "    </tr>\n",
              "    <tr>\n",
              "      <th>25%</th>\n",
              "      <td>9.839562e+05</td>\n",
              "      <td>16.400000</td>\n",
              "      <td>41.000000</td>\n",
              "      <td>923.597500</td>\n",
              "      <td>0.000000</td>\n",
              "      <td>0.000000</td>\n",
              "      <td>-0.410000</td>\n",
              "      <td>0.020000</td>\n",
              "      <td>0.940000</td>\n",
              "      <td>-36.590000</td>\n",
              "      <td>6.340000</td>\n",
              "      <td>-35.120000</td>\n",
              "      <td>0.0</td>\n",
              "      <td>0.0</td>\n",
              "      <td>0.0</td>\n",
              "      <td>0.000000</td>\n",
              "      <td>55.000000</td>\n",
              "      <td>0.0</td>\n",
              "      <td>393.000000</td>\n",
              "    </tr>\n",
              "    <tr>\n",
              "      <th>50%</th>\n",
              "      <td>1.019069e+06</td>\n",
              "      <td>20.100000</td>\n",
              "      <td>61.000000</td>\n",
              "      <td>926.000000</td>\n",
              "      <td>0.000000</td>\n",
              "      <td>0.830000</td>\n",
              "      <td>-0.400000</td>\n",
              "      <td>0.140000</td>\n",
              "      <td>0.940000</td>\n",
              "      <td>-34.940000</td>\n",
              "      <td>7.620000</td>\n",
              "      <td>-33.720000</td>\n",
              "      <td>0.0</td>\n",
              "      <td>0.0</td>\n",
              "      <td>0.0</td>\n",
              "      <td>0.000000</td>\n",
              "      <td>56.000000</td>\n",
              "      <td>0.0</td>\n",
              "      <td>420.000000</td>\n",
              "    </tr>\n",
              "    <tr>\n",
              "      <th>75%</th>\n",
              "      <td>1.054082e+06</td>\n",
              "      <td>23.400000</td>\n",
              "      <td>97.000000</td>\n",
              "      <td>930.680000</td>\n",
              "      <td>0.000000</td>\n",
              "      <td>15.000000</td>\n",
              "      <td>-0.400000</td>\n",
              "      <td>0.150000</td>\n",
              "      <td>0.950000</td>\n",
              "      <td>-33.600000</td>\n",
              "      <td>9.940000</td>\n",
              "      <td>-3.480000</td>\n",
              "      <td>0.0</td>\n",
              "      <td>0.0</td>\n",
              "      <td>0.0</td>\n",
              "      <td>0.000000</td>\n",
              "      <td>86.000000</td>\n",
              "      <td>0.0</td>\n",
              "      <td>531.000000</td>\n",
              "    </tr>\n",
              "    <tr>\n",
              "      <th>max</th>\n",
              "      <td>1.187551e+06</td>\n",
              "      <td>34.500000</td>\n",
              "      <td>99.000000</td>\n",
              "      <td>1021.900000</td>\n",
              "      <td>0.821577</td>\n",
              "      <td>98.330000</td>\n",
              "      <td>0.300000</td>\n",
              "      <td>0.940000</td>\n",
              "      <td>1.000000</td>\n",
              "      <td>1603.840000</td>\n",
              "      <td>301.890000</td>\n",
              "      <td>1603.840000</td>\n",
              "      <td>0.0</td>\n",
              "      <td>0.0</td>\n",
              "      <td>0.0</td>\n",
              "      <td>350.000000</td>\n",
              "      <td>1667.000000</td>\n",
              "      <td>0.0</td>\n",
              "      <td>976.000000</td>\n",
              "    </tr>\n",
              "  </tbody>\n",
              "</table>\n",
              "</div>\n",
              "      <button class=\"colab-df-convert\" onclick=\"convertToInteractive('df-8cd3bd52-ad89-471d-986f-ed630af61eca')\"\n",
              "              title=\"Convert this dataframe to an interactive table.\"\n",
              "              style=\"display:none;\">\n",
              "        \n",
              "  <svg xmlns=\"http://www.w3.org/2000/svg\" height=\"24px\"viewBox=\"0 0 24 24\"\n",
              "       width=\"24px\">\n",
              "    <path d=\"M0 0h24v24H0V0z\" fill=\"none\"/>\n",
              "    <path d=\"M18.56 5.44l.94 2.06.94-2.06 2.06-.94-2.06-.94-.94-2.06-.94 2.06-2.06.94zm-11 1L8.5 8.5l.94-2.06 2.06-.94-2.06-.94L8.5 2.5l-.94 2.06-2.06.94zm10 10l.94 2.06.94-2.06 2.06-.94-2.06-.94-.94-2.06-.94 2.06-2.06.94z\"/><path d=\"M17.41 7.96l-1.37-1.37c-.4-.4-.92-.59-1.43-.59-.52 0-1.04.2-1.43.59L10.3 9.45l-7.72 7.72c-.78.78-.78 2.05 0 2.83L4 21.41c.39.39.9.59 1.41.59.51 0 1.02-.2 1.41-.59l7.78-7.78 2.81-2.81c.8-.78.8-2.07 0-2.86zM5.41 20L4 18.59l7.72-7.72 1.47 1.35L5.41 20z\"/>\n",
              "  </svg>\n",
              "      </button>\n",
              "      \n",
              "  <style>\n",
              "    .colab-df-container {\n",
              "      display:flex;\n",
              "      flex-wrap:wrap;\n",
              "      gap: 12px;\n",
              "    }\n",
              "\n",
              "    .colab-df-convert {\n",
              "      background-color: #E8F0FE;\n",
              "      border: none;\n",
              "      border-radius: 50%;\n",
              "      cursor: pointer;\n",
              "      display: none;\n",
              "      fill: #1967D2;\n",
              "      height: 32px;\n",
              "      padding: 0 0 0 0;\n",
              "      width: 32px;\n",
              "    }\n",
              "\n",
              "    .colab-df-convert:hover {\n",
              "      background-color: #E2EBFA;\n",
              "      box-shadow: 0px 1px 2px rgba(60, 64, 67, 0.3), 0px 1px 3px 1px rgba(60, 64, 67, 0.15);\n",
              "      fill: #174EA6;\n",
              "    }\n",
              "\n",
              "    [theme=dark] .colab-df-convert {\n",
              "      background-color: #3B4455;\n",
              "      fill: #D2E3FC;\n",
              "    }\n",
              "\n",
              "    [theme=dark] .colab-df-convert:hover {\n",
              "      background-color: #434B5C;\n",
              "      box-shadow: 0px 1px 3px 1px rgba(0, 0, 0, 0.15);\n",
              "      filter: drop-shadow(0px 1px 2px rgba(0, 0, 0, 0.3));\n",
              "      fill: #FFFFFF;\n",
              "    }\n",
              "  </style>\n",
              "\n",
              "      <script>\n",
              "        const buttonEl =\n",
              "          document.querySelector('#df-8cd3bd52-ad89-471d-986f-ed630af61eca button.colab-df-convert');\n",
              "        buttonEl.style.display =\n",
              "          google.colab.kernel.accessAllowed ? 'block' : 'none';\n",
              "\n",
              "        async function convertToInteractive(key) {\n",
              "          const element = document.querySelector('#df-8cd3bd52-ad89-471d-986f-ed630af61eca');\n",
              "          const dataTable =\n",
              "            await google.colab.kernel.invokeFunction('convertToInteractive',\n",
              "                                                     [key], {});\n",
              "          if (!dataTable) return;\n",
              "\n",
              "          const docLinkHtml = 'Like what you see? Visit the ' +\n",
              "            '<a target=\"_blank\" href=https://colab.research.google.com/notebooks/data_table.ipynb>data table notebook</a>'\n",
              "            + ' to learn more about interactive tables.';\n",
              "          element.innerHTML = '';\n",
              "          dataTable['output_type'] = 'display_data';\n",
              "          await google.colab.output.renderOutput(dataTable, element);\n",
              "          const docLink = document.createElement('div');\n",
              "          docLink.innerHTML = docLinkHtml;\n",
              "          element.appendChild(docLink);\n",
              "        }\n",
              "      </script>\n",
              "    </div>\n",
              "  </div>\n",
              "  "
            ]
          },
          "metadata": {},
          "execution_count": 6
        }
      ]
    },
    {
      "cell_type": "code",
      "source": [
        "from keras.models import Sequential, load_model, save_model\n",
        "from keras.layers import Dense\n",
        "from keras.layers import LSTM\n",
        "from keras.layers import Dropout\n",
        "from tensorflow.keras.optimizers import Adam\n",
        "import glob\n",
        "from datetime import datetime\n",
        "from keras.callbacks import EarlyStopping\n",
        "import time\n",
        "from sklearn.preprocessing import LabelEncoder\n",
        "from sklearn.preprocessing import MinMaxScaler\n",
        "from sklearn.metrics import mean_squared_error\n",
        "from sklearn.metrics import mean_absolute_error\n",
        "from keras.callbacks import EarlyStopping\n",
        "from sklearn.metrics import r2_score"
      ],
      "metadata": {
        "id": "Esd2SYRaNSJM"
      },
      "execution_count": null,
      "outputs": []
    },
    {
      "cell_type": "code",
      "source": [
        "dataset = df['cumcount'].values #numpy.ndarray\n",
        "dataset = dataset.astype('float32')\n",
        "dataset = np.reshape(dataset, (-1, 1))\n",
        "scaler = MinMaxScaler(feature_range=(0, 1))\n",
        "dataset = scaler.fit_transform(dataset)\n",
        "train_size = int(len(dataset) * 0.80)\n",
        "test_size = len(dataset) - train_size\n",
        "train, test = dataset[0:train_size,:], dataset[train_size:len(dataset),:]\n",
        "print(len(train), len(test))"
      ],
      "metadata": {
        "colab": {
          "base_uri": "https://localhost:8080/"
        },
        "id": "OsliPTtX9Woi",
        "outputId": "56f04138-4e21-49ac-c3d0-0551b7bc6515"
      },
      "execution_count": null,
      "outputs": [
        {
          "output_type": "stream",
          "name": "stdout",
          "text": [
            "6672 1668\n"
          ]
        }
      ]
    },
    {
      "cell_type": "code",
      "source": [
        "def create_dataset(dataset, look_back):\n",
        "  dataX, dataY = [],[]\n",
        "  for i in range(len(dataset) - look_back):\n",
        "\n",
        "    dataX.append(np.array(dataset[i:i+look_back,:1]))\n",
        "    \n",
        "    dataY.append(np.array(dataset[i+look_back,:1]))\n",
        "  \n",
        "  return np.array(dataX),np.array(dataY)"
      ],
      "metadata": {
        "id": "wEzgpTZu3mCP"
      },
      "execution_count": null,
      "outputs": []
    },
    {
      "cell_type": "code",
      "source": [
        "look_back = 1\n",
        "trainX, trainY = create_dataset(train, look_back)\n",
        "testX, testY = create_dataset(test, look_back)"
      ],
      "metadata": {
        "id": "6H0Ookfb87kb"
      },
      "execution_count": null,
      "outputs": []
    },
    {
      "cell_type": "code",
      "source": [
        "print(\"train_X shape:\", trainX.shape)\n",
        "print(\"test_X shape:\", testX.shape)\n",
        "print(\"train_Y shape:\", trainY.shape)\n",
        "print(\"test_Y shape:\", testY.shape)"
      ],
      "metadata": {
        "colab": {
          "base_uri": "https://localhost:8080/"
        },
        "id": "5E-BMa2s3mE4",
        "outputId": "615bc2b4-3ce9-48bc-d3ff-3408d5e6d885"
      },
      "execution_count": null,
      "outputs": [
        {
          "output_type": "stream",
          "name": "stdout",
          "text": [
            "train_X shape: (6671, 1, 1)\n",
            "test_X shape: (1667, 1, 1)\n",
            "train_Y shape: (6671, 1)\n",
            "test_Y shape: (1667, 1)\n"
          ]
        }
      ]
    },
    {
      "cell_type": "code",
      "source": [
        "trainX = trainX.reshape(-1,1)\n",
        "trainY = trainY.reshape(-1,1)\n",
        "plt.figure(figsize = (15,5))\n",
        "plt.plot(trainX)\n",
        "plt.plot(trainY)\n",
        "plt.title('trainX vs trainY plot')\n",
        "plt.ylabel('trainY')\n",
        "plt.xlabel('trainX')\n",
        "plt.legend(['trainX', 'trainY'], loc='upper left')\n",
        "plt.show()"
      ],
      "metadata": {
        "colab": {
          "base_uri": "https://localhost:8080/",
          "height": 354
        },
        "id": "byuQgmCTLp58",
        "outputId": "afc5be42-8df6-4ac2-b06f-590bf4fb59c3"
      },
      "execution_count": null,
      "outputs": [
        {
          "output_type": "display_data",
          "data": {
            "text/plain": [
              "<Figure size 1080x360 with 1 Axes>"
            ],
            "image/png": "[encoded data removed]"
          },
          "metadata": {
            "needs_background": "light"
          }
        }
      ]
    },
    {
      "cell_type": "code",
      "source": [
        "testX = testX.reshape(-1,1)\n",
        "testY = testY.reshape(-1,1)\n",
        "plt.figure(figsize = (15,5))\n",
        "plt.plot(testX)\n",
        "plt.plot(testY)\n",
        "plt.title('testX vs testY plot')\n",
        "plt.ylabel('testY')\n",
        "plt.xlabel('testX')\n",
        "plt.legend(['testX', 'testY'], loc='upper left')\n",
        "plt.show()"
      ],
      "metadata": {
        "colab": {
          "base_uri": "https://localhost:8080/",
          "height": 354
        },
        "id": "z-_BWGq-Owt3",
        "outputId": "315fef55-e27a-4675-f66d-2077172988a8"
      },
      "execution_count": null,
      "outputs": [
        {
          "output_type": "display_data",
          "data": {
            "text/plain": [
              "<Figure size 1080x360 with 1 Axes>"
            ],
            "image/png": "[encoded data removed]"
          },
          "metadata": {
            "needs_background": "light"
          }
        }
      ]
    },
    {
      "cell_type": "code",
      "source": [
        "testY"
      ],
      "metadata": {
        "colab": {
          "base_uri": "https://localhost:8080/"
        },
        "id": "_U885k5P_JQ8",
        "outputId": "702f56ce-7380-4257-ba74-2b14360ab9f1"
      },
      "execution_count": null,
      "outputs": [
        {
          "output_type": "execute_result",
          "data": {
            "text/plain": [
              "array([[0.05158968],\n",
              "       [0.05158968],\n",
              "       [0.05158968],\n",
              "       ...,\n",
              "       [0.99999994],\n",
              "       [0.99999994],\n",
              "       [0.99999994]], dtype=float32)"
            ]
          },
          "metadata": {},
          "execution_count": 12
        }
      ]
    },
    {
      "cell_type": "code",
      "source": [
        "trainX = np.reshape(trainX, (trainX.shape[0], 1, trainX.shape[1]))\n",
        "testX = np.reshape(testX, (testX.shape[0], 1, testX.shape[1]))\n",
        "print('Training data size:',trainX.shape)\n",
        "print('Test data size:',testX.shape)"
      ],
      "metadata": {
        "colab": {
          "base_uri": "https://localhost:8080/"
        },
        "id": "WDRSwtBJ3mHO",
        "outputId": "6dd1c9ee-fb6c-4598-ac5c-c4aa7401f77a"
      },
      "execution_count": null,
      "outputs": [
        {
          "output_type": "stream",
          "name": "stdout",
          "text": [
            "Training data size: (6671, 1, 1)\n",
            "Test data size: (1667, 1, 1)\n"
          ]
        }
      ]
    },
    {
      "cell_type": "code",
      "source": [
        "INIT_LR = 1e-4\n",
        "NUM_EPOCHS = 100\n",
        "BATCH_SIZE = 32"
      ],
      "metadata": {
        "id": "oHJK_jNF3mJp"
      },
      "execution_count": null,
      "outputs": []
    },
    {
      "cell_type": "code",
      "source": [
        "model = Sequential()\n",
        "model.add(LSTM(100, input_shape=(trainX.shape[1], trainX.shape[2])))\n",
        "model.add(Dense(1))\n",
        "opt = Adam(lr=INIT_LR)\n",
        "model.compile(loss='mae', optimizer=opt)\n",
        "print(\"[INFO] training ....\")\n",
        "H = model.fit(trainX, trainY, epochs=NUM_EPOCHS,batch_size=BATCH_SIZE, validation_data=(testX, testY),callbacks=[EarlyStopping(monitor='val_loss', patience=10)],verbose=1, shuffle=False)\n",
        "model.summary()\n"
      ],
      "metadata": {
        "colab": {
          "base_uri": "https://localhost:8080/"
        },
        "id": "Hi9DQtxA-peY",
        "outputId": "2cba19ec-2738-4c7d-a2ff-b55693b4d36d"
      },
      "execution_count": null,
      "outputs": [
        {
          "output_type": "stream",
          "name": "stderr",
          "text": [
            "/usr/local/lib/python3.7/dist-packages/keras/optimizer_v2/adam.py:105: UserWarning: The `lr` argument is deprecated, use `learning_rate` instead.\n",
            "  super(Adam, self).__init__(name, **kwargs)\n"
          ]
        },
        {
          "output_type": "stream",
          "name": "stdout",
          "text": [
            "[INFO] training ....\n",
            "Epoch 1/100\n",
            "209/209 [==============================] - 4s 7ms/step - loss: 0.0044 - val_loss: 0.0612\n",
            "Epoch 2/100\n",
            "209/209 [==============================] - 1s 5ms/step - loss: 0.0097 - val_loss: 0.0604\n",
            "Epoch 3/100\n",
            "209/209 [==============================] - 1s 5ms/step - loss: 0.0095 - val_loss: 0.0594\n",
            "Epoch 4/100\n",
            "209/209 [==============================] - 1s 4ms/step - loss: 0.0092 - val_loss: 0.0572\n",
            "Epoch 5/100\n",
            "209/209 [==============================] - 1s 4ms/step - loss: 0.0091 - val_loss: 0.0552\n",
            "Epoch 6/100\n",
            "209/209 [==============================] - 1s 4ms/step - loss: 0.0091 - val_loss: 0.0552\n",
            "Epoch 7/100\n",
            "209/209 [==============================] - 1s 4ms/step - loss: 0.0087 - val_loss: 0.0530\n",
            "Epoch 8/100\n",
            "209/209 [==============================] - 1s 4ms/step - loss: 0.0087 - val_loss: 0.0519\n",
            "Epoch 9/100\n",
            "209/209 [==============================] - 1s 4ms/step - loss: 0.0084 - val_loss: 0.0497\n",
            "Epoch 10/100\n",
            "209/209 [==============================] - 1s 4ms/step - loss: 0.0085 - val_loss: 0.0493\n",
            "Epoch 11/100\n",
            "209/209 [==============================] - 1s 5ms/step - loss: 0.0081 - val_loss: 0.0469\n",
            "Epoch 12/100\n",
            "209/209 [==============================] - 1s 5ms/step - loss: 0.0081 - val_loss: 0.0455\n",
            "Epoch 13/100\n",
            "209/209 [==============================] - 2s 8ms/step - loss: 0.0079 - val_loss: 0.0444\n",
            "Epoch 14/100\n",
            "209/209 [==============================] - 2s 8ms/step - loss: 0.0076 - val_loss: 0.0436\n",
            "Epoch 15/100\n",
            "209/209 [==============================] - 2s 7ms/step - loss: 0.0073 - val_loss: 0.0423\n",
            "Epoch 16/100\n",
            "209/209 [==============================] - 2s 10ms/step - loss: 0.0072 - val_loss: 0.0409\n",
            "Epoch 17/100\n",
            "209/209 [==============================] - 2s 8ms/step - loss: 0.0070 - val_loss: 0.0400\n",
            "Epoch 18/100\n",
            "209/209 [==============================] - 2s 9ms/step - loss: 0.0068 - val_loss: 0.0384\n",
            "Epoch 19/100\n",
            "209/209 [==============================] - 2s 10ms/step - loss: 0.0064 - val_loss: 0.0374\n",
            "Epoch 20/100\n",
            "209/209 [==============================] - 2s 9ms/step - loss: 0.0059 - val_loss: 0.0362\n",
            "Epoch 21/100\n",
            "209/209 [==============================] - 2s 9ms/step - loss: 0.0058 - val_loss: 0.0351\n",
            "Epoch 22/100\n",
            "209/209 [==============================] - 2s 9ms/step - loss: 0.0058 - val_loss: 0.0337\n",
            "Epoch 23/100\n",
            "209/209 [==============================] - 2s 8ms/step - loss: 0.0054 - val_loss: 0.0323\n",
            "Epoch 24/100\n",
            "209/209 [==============================] - 1s 6ms/step - loss: 0.0049 - val_loss: 0.0310\n",
            "Epoch 25/100\n",
            "209/209 [==============================] - 2s 7ms/step - loss: 0.0045 - val_loss: 0.0298\n",
            "Epoch 26/100\n",
            "209/209 [==============================] - 2s 9ms/step - loss: 0.0044 - val_loss: 0.0290\n",
            "Epoch 27/100\n",
            "209/209 [==============================] - 2s 9ms/step - loss: 0.0043 - val_loss: 0.0277\n",
            "Epoch 28/100\n",
            "209/209 [==============================] - 2s 9ms/step - loss: 0.0041 - val_loss: 0.0261\n",
            "Epoch 29/100\n",
            "209/209 [==============================] - 2s 9ms/step - loss: 0.0038 - val_loss: 0.0257\n",
            "Epoch 30/100\n",
            "209/209 [==============================] - 2s 7ms/step - loss: 0.0040 - val_loss: 0.0243\n",
            "Epoch 31/100\n",
            "209/209 [==============================] - 1s 6ms/step - loss: 0.0035 - val_loss: 0.0231\n",
            "Epoch 32/100\n",
            "209/209 [==============================] - 1s 6ms/step - loss: 0.0033 - val_loss: 0.0222\n",
            "Epoch 33/100\n",
            "209/209 [==============================] - 2s 9ms/step - loss: 0.0032 - val_loss: 0.0211\n",
            "Epoch 34/100\n",
            "209/209 [==============================] - 2s 8ms/step - loss: 0.0029 - val_loss: 0.0209\n",
            "Epoch 35/100\n",
            "209/209 [==============================] - 2s 10ms/step - loss: 0.0030 - val_loss: 0.0198\n",
            "Epoch 36/100\n",
            "209/209 [==============================] - 2s 8ms/step - loss: 0.0027 - val_loss: 0.0191\n",
            "Epoch 37/100\n",
            "209/209 [==============================] - 2s 9ms/step - loss: 0.0025 - val_loss: 0.0178\n",
            "Epoch 38/100\n",
            "209/209 [==============================] - 2s 9ms/step - loss: 0.0028 - val_loss: 0.0166\n",
            "Epoch 39/100\n",
            "209/209 [==============================] - 1s 7ms/step - loss: 0.0022 - val_loss: 0.0153\n",
            "Epoch 40/100\n",
            "209/209 [==============================] - 2s 7ms/step - loss: 0.0024 - val_loss: 0.0141\n",
            "Epoch 41/100\n",
            "209/209 [==============================] - 1s 6ms/step - loss: 0.0023 - val_loss: 0.0128\n",
            "Epoch 42/100\n",
            "209/209 [==============================] - 1s 4ms/step - loss: 0.0023 - val_loss: 0.0119\n",
            "Epoch 43/100\n",
            "209/209 [==============================] - 1s 5ms/step - loss: 0.0018 - val_loss: 0.0105\n",
            "Epoch 44/100\n",
            "209/209 [==============================] - 1s 4ms/step - loss: 0.0017 - val_loss: 0.0095\n",
            "Epoch 45/100\n",
            "209/209 [==============================] - 1s 5ms/step - loss: 0.0017 - val_loss: 0.0087\n",
            "Epoch 46/100\n",
            "209/209 [==============================] - 1s 4ms/step - loss: 0.0016 - val_loss: 0.0075\n",
            "Epoch 47/100\n",
            "209/209 [==============================] - 1s 6ms/step - loss: 0.0015 - val_loss: 0.0066\n",
            "Epoch 48/100\n",
            "209/209 [==============================] - 1s 7ms/step - loss: 0.0013 - val_loss: 0.0060\n",
            "Epoch 49/100\n",
            "209/209 [==============================] - 1s 7ms/step - loss: 0.0013 - val_loss: 0.0051\n",
            "Epoch 50/100\n",
            "209/209 [==============================] - 1s 7ms/step - loss: 0.0012 - val_loss: 0.0042\n",
            "Epoch 51/100\n",
            "209/209 [==============================] - 1s 7ms/step - loss: 0.0011 - val_loss: 0.0034\n",
            "Epoch 52/100\n",
            "209/209 [==============================] - 1s 7ms/step - loss: 0.0011 - val_loss: 0.0025\n",
            "Epoch 53/100\n",
            "209/209 [==============================] - 1s 7ms/step - loss: 9.7313e-04 - val_loss: 0.0018\n",
            "Epoch 54/100\n",
            "209/209 [==============================] - 1s 6ms/step - loss: 8.0512e-04 - val_loss: 0.0011\n",
            "Epoch 55/100\n",
            "209/209 [==============================] - 2s 8ms/step - loss: 8.3205e-04 - val_loss: 0.0014\n",
            "Epoch 56/100\n",
            "209/209 [==============================] - 2s 7ms/step - loss: 6.7246e-04 - val_loss: 0.0017\n",
            "Epoch 57/100\n",
            "209/209 [==============================] - 1s 5ms/step - loss: 5.6610e-04 - val_loss: 0.0021\n",
            "Epoch 58/100\n",
            "209/209 [==============================] - 1s 5ms/step - loss: 5.1332e-04 - val_loss: 0.0023\n",
            "Epoch 59/100\n",
            "209/209 [==============================] - 1s 6ms/step - loss: 6.2221e-04 - val_loss: 0.0028\n",
            "Epoch 60/100\n",
            "209/209 [==============================] - 1s 6ms/step - loss: 6.1866e-04 - val_loss: 0.0034\n",
            "Epoch 61/100\n",
            "209/209 [==============================] - 1s 6ms/step - loss: 5.0022e-04 - val_loss: 0.0038\n",
            "Epoch 62/100\n",
            "209/209 [==============================] - 1s 5ms/step - loss: 4.3277e-04 - val_loss: 0.0039\n",
            "Epoch 63/100\n",
            "209/209 [==============================] - 1s 5ms/step - loss: 4.4903e-04 - val_loss: 0.0044\n",
            "Epoch 64/100\n",
            "209/209 [==============================] - 1s 7ms/step - loss: 4.1517e-04 - val_loss: 0.0045\n",
            "Model: \"sequential\"\n",
            "_________________________________________________________________\n",
            " Layer (type)                Output Shape              Param #   \n",
            "=================================================================\n",
            " lstm (LSTM)                 (None, 100)               40800     \n",
            "                                                                 \n",
            " dense (Dense)               (None, 1)                 101       \n",
            "                                                                 \n",
            "=================================================================\n",
            "Total params: 40,901\n",
            "Trainable params: 40,901\n",
            "Non-trainable params: 0\n",
            "_________________________________________________________________\n"
          ]
        }
      ]
    },
    {
      "cell_type": "code",
      "source": [
        "print(\"[INFO] saving trained model...\")\n",
        "model.save(STOREDIR+'model/trained.h5', save_format=\"h5\")"
      ],
      "metadata": {
        "colab": {
          "base_uri": "https://localhost:8080/"
        },
        "id": "TOS9ThbR-pg4",
        "outputId": "33cc5b54-4d50-40c9-b4b2-2b3ec9996dad"
      },
      "execution_count": null,
      "outputs": [
        {
          "output_type": "stream",
          "name": "stdout",
          "text": [
            "[INFO] saving trained model...\n"
          ]
        }
      ]
    },
    {
      "cell_type": "code",
      "source": [
        "testY = testY.reshape(-1,1)"
      ],
      "metadata": {
        "id": "a_xsCLY3-pl2"
      },
      "execution_count": null,
      "outputs": []
    },
    {
      "cell_type": "code",
      "source": [
        "# prediction on test data\n",
        "y_pred = model.predict(testX) \n",
        "# invert the test to original values\n",
        "y_test_inverse = scaler.inverse_transform(testY) \n",
        "print('Test data:')\n",
        "print(y_test_inverse)\n",
        "# invert the prediction to understandable values\n",
        "y_pred_inverse = scaler.inverse_transform(y_pred) \n",
        "print('Prediction data:')\n",
        "print(y_pred_inverse)"
      ],
      "metadata": {
        "colab": {
          "base_uri": "https://localhost:8080/"
        },
        "id": "ugS1jfnL_2tr",
        "outputId": "af7ce013-2408-4e37-cc9d-d8d456e44fc3"
      },
      "execution_count": null,
      "outputs": [
        {
          "output_type": "stream",
          "name": "stdout",
          "text": [
            "Test data:\n",
            "[[  86.]\n",
            " [  86.]\n",
            " [  86.]\n",
            " ...\n",
            " [1667.]\n",
            " [1667.]\n",
            " [1667.]]\n",
            "Prediction data:\n",
            "[[  86.04817]\n",
            " [  86.04817]\n",
            " [  86.04817]\n",
            " ...\n",
            " [1780.5742 ]\n",
            " [1785.3451 ]\n",
            " [1785.3453 ]]\n"
          ]
        }
      ]
    },
    {
      "cell_type": "code",
      "source": [
        "#error calculation on test data\n",
        "print(f'MAE {mean_absolute_error(testY, y_pred)}')\n",
        "print(f'MSE {mean_squared_error(testY, y_pred)}')\n",
        "print(f'RMSE {np.sqrt(mean_squared_error(testY, y_pred))}')\n",
        "print(f'R2 {r2_score(testY, y_pred)}')"
      ],
      "metadata": {
        "colab": {
          "base_uri": "https://localhost:8080/"
        },
        "id": "4c7qWGB9_2v2",
        "outputId": "3200e529-a4bc-4bd8-8dc2-d99e572ae32b"
      },
      "execution_count": null,
      "outputs": [
        {
          "output_type": "stream",
          "name": "stdout",
          "text": [
            "MAE 0.004505940712988377\n",
            "MSE 0.0003227651468478143\n",
            "RMSE 0.017965665087103844\n",
            "R2 0.99359986430888\n"
          ]
        }
      ]
    },
    {
      "cell_type": "code",
      "source": [
        "plt.figure(figsize = (15,5))\n",
        "plt.plot(y_test_inverse)\n",
        "plt.plot(y_pred_inverse)\n",
        "plt.title('Actual vs Prediction plot for test data')\n",
        "plt.ylabel('count')\n",
        "plt.xlabel('date')\n",
        "plt.legend(['actual', 'prediction'], loc='upper left')\n",
        "plt.show()"
      ],
      "metadata": {
        "colab": {
          "base_uri": "https://localhost:8080/",
          "height": 354
        },
        "id": "M6hZR0l73mLw",
        "outputId": "8e659de1-3886-4499-9632-522405d1963d"
      },
      "execution_count": null,
      "outputs": [
        {
          "output_type": "display_data",
          "data": {
            "text/plain": [
              "<Figure size 1080x360 with 1 Axes>"
            ],
            "image/png": "[encoded data removed]"
          },
          "metadata": {}
        }
      ]
    },
    {
      "cell_type": "code",
      "source": [
        "# train data\n",
        "# prediction on train data\n",
        "y_pred = model.predict(trainX) \n",
        "# invert the test to original values\n",
        "y_train_inverse = scaler.inverse_transform(trainY) \n",
        "print('Train data:')\n",
        "print(y_test_inverse)\n",
        "# invert the prediction to understandable values\n",
        "y_pred_inverse = scaler.inverse_transform(y_pred) \n",
        "print('Prediction data:')\n",
        "print(y_pred_inverse)"
      ],
      "metadata": {
        "colab": {
          "base_uri": "https://localhost:8080/"
        },
        "id": "1ERUZ4qOaqaz",
        "outputId": "609571ec-7a2e-4b7f-fae2-3cc5d92ff7ad"
      },
      "execution_count": null,
      "outputs": [
        {
          "output_type": "stream",
          "name": "stdout",
          "text": [
            "Train data:\n",
            "[[ 0.]\n",
            " [ 0.]\n",
            " [ 0.]\n",
            " ...\n",
            " [86.]\n",
            " [86.]\n",
            " [86.]]\n",
            "Prediction data:\n",
            "[[ 6.8441978]\n",
            " [ 6.8441978]\n",
            " [ 6.8441978]\n",
            " ...\n",
            " [86.04817  ]\n",
            " [86.04817  ]\n",
            " [86.04817  ]]\n"
          ]
        }
      ]
    },
    {
      "cell_type": "code",
      "source": [
        "#error calculation on train data\n",
        "print(f'MAE {mean_absolute_error(trainY, y_pred)}')\n",
        "print(f'MSE {mean_squared_error(trainY, y_pred)}')\n",
        "print(f'RMSE {np.sqrt(mean_squared_error(trainY, y_pred))}')\n",
        "print(f'R2 {r2_score(trainY, y_pred)}')"
      ],
      "metadata": {
        "colab": {
          "base_uri": "https://localhost:8080/"
        },
        "id": "7o-BvnniaqdN",
        "outputId": "1903b5c9-d662-4fdd-8f5f-ca539d0662bf"
      },
      "execution_count": null,
      "outputs": [
        {
          "output_type": "stream",
          "name": "stdout",
          "text": [
            "MAE 0.0015597754390910268\n",
            "MSE 3.5633806874102447e-06\n",
            "RMSE 0.001887691905722022\n",
            "R2 0.9804826323341366\n"
          ]
        }
      ]
    },
    {
      "cell_type": "code",
      "source": [
        "plt.figure(figsize = (15,5))\n",
        "plt.plot(y_train_inverse)\n",
        "plt.plot(y_pred_inverse)\n",
        "plt.title('Actual vs Prediction plot for trained data')\n",
        "plt.ylabel('count')\n",
        "plt.xlabel('date')\n",
        "plt.legend(['actual', 'prediction'], loc='upper left')\n",
        "plt.show()"
      ],
      "metadata": {
        "colab": {
          "base_uri": "https://localhost:8080/",
          "height": 354
        },
        "id": "lTFuM5Omaqfb",
        "outputId": "61c8f422-73d7-4779-c367-5da78767e064"
      },
      "execution_count": null,
      "outputs": [
        {
          "output_type": "display_data",
          "data": {
            "text/plain": [
              "<Figure size 1080x360 with 1 Axes>"
            ],
            "image/png": "[encoded data removed]"
          },
          "metadata": {}
        }
      ]
    }
  ]
}